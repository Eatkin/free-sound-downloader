{
 "cells": [
  {
   "cell_type": "code",
   "execution_count": 1,
   "metadata": {},
   "outputs": [],
   "source": [
    "# Set up selenium with by, webdriver, options and keys\n",
    "from selenium.webdriver.common.by import By\n",
    "from selenium.webdriver.support.ui import WebDriverWait\n",
    "from selenium.webdriver.support import expected_conditions as EC\n",
    "from selenium import webdriver\n",
    "options = webdriver.ChromeOptions()\n",
    "options.add_argument('headless')\n",
    "driver = webdriver.Chrome(options=options)\n",
    "\n",
    "# Going to freesound\n",
    "url = \"https://freesound.org/\"\n",
    "driver.get(url)"
   ]
  },
  {
   "cell_type": "code",
   "execution_count": 2,
   "metadata": {},
   "outputs": [],
   "source": [
    "# Create sounds dir\n",
    "import os\n",
    "if not os.path.exists('sounds'):\n",
    "    os.makedirs('sounds')\n",
    "\n",
    "# Setup download dir except it doesn't work for some reason lol\n",
    "prefs = {'download.default_directory' : os.getcwd() + '/sounds'}\n",
    "options.add_experimental_option('prefs', prefs)"
   ]
  },
  {
   "cell_type": "code",
   "execution_count": 3,
   "metadata": {},
   "outputs": [],
   "source": [
    "# Click the log in button - it has data-toggle=\"login-modal\" as a property\n",
    "login_button = driver.find_element(By.CSS_SELECTOR, \"[data-toggle='login-modal']\")\n",
    "login_button.click()\n",
    "\n",
    "# This should open a div with id loginModal\n",
    "# We can wait for it to appear with WebDriverWait\n",
    "# Wait for 10 seconds for the login modal to appear\n",
    "login_modal = WebDriverWait(driver, 10).until(\n",
    "    EC.presence_of_element_located((By.ID, \"loginModal\"))\n",
    ")\n",
    "\n",
    "# Now we can find the username and password fields\n",
    "# Input field with name=\"username\" and \"password\" respectively\n",
    "username_field = login_modal.find_element(By.CSS_SELECTOR, \"[name='username']\")\n",
    "password_field = login_modal.find_element(By.CSS_SELECTOR, \"[name='password']\")\n",
    "\n",
    "# Fill in the username and password\n",
    "# Get them from environment variables\n",
    "username_field.send_keys(os.environ.get('FREESOUND_USERNAME'))\n",
    "password_field.send_keys(os.environ.get('FREESOUND_PASSWORD'))\n",
    "\n",
    "# Click the login button which is a submit button with class=\"btn-primary\" and inner text \"Log in\"\n",
    "login_button = login_modal.find_element(By.CSS_SELECTOR, \"button.btn-primary\")\n",
    "login_button.click()"
   ]
  },
  {
   "cell_type": "code",
   "execution_count": 4,
   "metadata": {},
   "outputs": [],
   "source": [
    "random_sounds = {}\n",
    "licenses = {}"
   ]
  },
  {
   "cell_type": "code",
   "execution_count": 5,
   "metadata": {},
   "outputs": [
    {
     "name": "stdout",
     "output_type": "stream",
     "text": [
      "Getting last page number\n",
      "Page numbers: [13206, 939, 2081, 7528, 10263, 3438, 3682, 5401, 1794, 7762]\n",
      "Getting random sounds\n",
      "Getting page 13206\n",
      "Found 15 sounds on page 13206\n",
      "Getting sound machine for a bottles.wav\n",
      "Got href https://freesound.org/people/Dalibor/sounds/34181/\n",
      "Went to sound page\n",
      "Found download button\n"
     ]
    },
    {
     "ename": "NoSuchElementException",
     "evalue": "Message: no such element: Unable to locate element: {\"method\":\"css selector\",\"selector\":\".text-20 h-spacing-left-2 padding-right-4\"}\n  (Session info: headless chrome=112.0.5615.165)\nStacktrace:\n#0 0x55942cad3fe3 <unknown>\n#1 0x55942c812d36 <unknown>\n#2 0x55942c84fc4d <unknown>\n#3 0x55942c84fd61 <unknown>\n#4 0x55942c88b6a4 <unknown>\n#5 0x55942c8708ed <unknown>\n#6 0x55942c889232 <unknown>\n#7 0x55942c870693 <unknown>\n#8 0x55942c84303a <unknown>\n#9 0x55942c84417e <unknown>\n#10 0x55942ca95dbd <unknown>\n#11 0x55942ca99c6c <unknown>\n#12 0x55942caa34b0 <unknown>\n#13 0x55942ca9ad63 <unknown>\n#14 0x55942ca6dc35 <unknown>\n#15 0x55942cabe138 <unknown>\n#16 0x55942cabe2c7 <unknown>\n#17 0x55942cacc093 <unknown>\n#18 0x7f5e40824b43 <unknown>\n",
     "output_type": "error",
     "traceback": [
      "\u001b[0;31m---------------------------------------------------------------------------\u001b[0m",
      "\u001b[0;31mNoSuchElementException\u001b[0m                    Traceback (most recent call last)",
      "Cell \u001b[0;32mIn [5], line 77\u001b[0m\n\u001b[1;32m     74\u001b[0m \u001b[38;5;28mprint\u001b[39m(\u001b[38;5;124m\"\u001b[39m\u001b[38;5;124mFound download button\u001b[39m\u001b[38;5;124m\"\u001b[39m)\n\u001b[1;32m     76\u001b[0m \u001b[38;5;66;03m# Find the license element\u001b[39;00m\n\u001b[0;32m---> 77\u001b[0m license_element \u001b[38;5;241m=\u001b[39m \u001b[43mdriver\u001b[49m\u001b[38;5;241;43m.\u001b[39;49m\u001b[43mfind_element\u001b[49m\u001b[43m(\u001b[49m\u001b[43mBy\u001b[49m\u001b[38;5;241;43m.\u001b[39;49m\u001b[43mCLASS_NAME\u001b[49m\u001b[43m,\u001b[49m\u001b[43m \u001b[49m\u001b[38;5;124;43m\"\u001b[39;49m\u001b[38;5;124;43mtext-20 h-spacing-left-2 padding-right-4\u001b[39;49m\u001b[38;5;124;43m\"\u001b[39;49m\u001b[43m)\u001b[49m\n\u001b[1;32m     79\u001b[0m \u001b[38;5;66;03m# Licence is the inner text\u001b[39;00m\n\u001b[1;32m     80\u001b[0m license \u001b[38;5;241m=\u001b[39m license_element\u001b[38;5;241m.\u001b[39mtext\n",
      "File \u001b[0;32m~/.pyenv/versions/lewagon/lib/python3.10/site-packages/selenium/webdriver/remote/webdriver.py:831\u001b[0m, in \u001b[0;36mWebDriver.find_element\u001b[0;34m(self, by, value)\u001b[0m\n\u001b[1;32m    828\u001b[0m     by \u001b[38;5;241m=\u001b[39m By\u001b[38;5;241m.\u001b[39mCSS_SELECTOR\n\u001b[1;32m    829\u001b[0m     value \u001b[38;5;241m=\u001b[39m \u001b[38;5;124mf\u001b[39m\u001b[38;5;124m'\u001b[39m\u001b[38;5;124m[name=\u001b[39m\u001b[38;5;124m\"\u001b[39m\u001b[38;5;132;01m{\u001b[39;00mvalue\u001b[38;5;132;01m}\u001b[39;00m\u001b[38;5;124m\"\u001b[39m\u001b[38;5;124m]\u001b[39m\u001b[38;5;124m'\u001b[39m\n\u001b[0;32m--> 831\u001b[0m \u001b[38;5;28;01mreturn\u001b[39;00m \u001b[38;5;28;43mself\u001b[39;49m\u001b[38;5;241;43m.\u001b[39;49m\u001b[43mexecute\u001b[49m\u001b[43m(\u001b[49m\u001b[43mCommand\u001b[49m\u001b[38;5;241;43m.\u001b[39;49m\u001b[43mFIND_ELEMENT\u001b[49m\u001b[43m,\u001b[49m\u001b[43m \u001b[49m\u001b[43m{\u001b[49m\u001b[38;5;124;43m\"\u001b[39;49m\u001b[38;5;124;43musing\u001b[39;49m\u001b[38;5;124;43m\"\u001b[39;49m\u001b[43m:\u001b[49m\u001b[43m \u001b[49m\u001b[43mby\u001b[49m\u001b[43m,\u001b[49m\u001b[43m \u001b[49m\u001b[38;5;124;43m\"\u001b[39;49m\u001b[38;5;124;43mvalue\u001b[39;49m\u001b[38;5;124;43m\"\u001b[39;49m\u001b[43m:\u001b[49m\u001b[43m \u001b[49m\u001b[43mvalue\u001b[49m\u001b[43m}\u001b[49m\u001b[43m)\u001b[49m[\u001b[38;5;124m\"\u001b[39m\u001b[38;5;124mvalue\u001b[39m\u001b[38;5;124m\"\u001b[39m]\n",
      "File \u001b[0;32m~/.pyenv/versions/lewagon/lib/python3.10/site-packages/selenium/webdriver/remote/webdriver.py:440\u001b[0m, in \u001b[0;36mWebDriver.execute\u001b[0;34m(self, driver_command, params)\u001b[0m\n\u001b[1;32m    438\u001b[0m response \u001b[38;5;241m=\u001b[39m \u001b[38;5;28mself\u001b[39m\u001b[38;5;241m.\u001b[39mcommand_executor\u001b[38;5;241m.\u001b[39mexecute(driver_command, params)\n\u001b[1;32m    439\u001b[0m \u001b[38;5;28;01mif\u001b[39;00m response:\n\u001b[0;32m--> 440\u001b[0m     \u001b[38;5;28;43mself\u001b[39;49m\u001b[38;5;241;43m.\u001b[39;49m\u001b[43merror_handler\u001b[49m\u001b[38;5;241;43m.\u001b[39;49m\u001b[43mcheck_response\u001b[49m\u001b[43m(\u001b[49m\u001b[43mresponse\u001b[49m\u001b[43m)\u001b[49m\n\u001b[1;32m    441\u001b[0m     response[\u001b[38;5;124m\"\u001b[39m\u001b[38;5;124mvalue\u001b[39m\u001b[38;5;124m\"\u001b[39m] \u001b[38;5;241m=\u001b[39m \u001b[38;5;28mself\u001b[39m\u001b[38;5;241m.\u001b[39m_unwrap_value(response\u001b[38;5;241m.\u001b[39mget(\u001b[38;5;124m\"\u001b[39m\u001b[38;5;124mvalue\u001b[39m\u001b[38;5;124m\"\u001b[39m, \u001b[38;5;28;01mNone\u001b[39;00m))\n\u001b[1;32m    442\u001b[0m     \u001b[38;5;28;01mreturn\u001b[39;00m response\n",
      "File \u001b[0;32m~/.pyenv/versions/lewagon/lib/python3.10/site-packages/selenium/webdriver/remote/errorhandler.py:245\u001b[0m, in \u001b[0;36mErrorHandler.check_response\u001b[0;34m(self, response)\u001b[0m\n\u001b[1;32m    243\u001b[0m         alert_text \u001b[38;5;241m=\u001b[39m value[\u001b[38;5;124m\"\u001b[39m\u001b[38;5;124malert\u001b[39m\u001b[38;5;124m\"\u001b[39m]\u001b[38;5;241m.\u001b[39mget(\u001b[38;5;124m\"\u001b[39m\u001b[38;5;124mtext\u001b[39m\u001b[38;5;124m\"\u001b[39m)\n\u001b[1;32m    244\u001b[0m     \u001b[38;5;28;01mraise\u001b[39;00m exception_class(message, screen, stacktrace, alert_text)  \u001b[38;5;66;03m# type: ignore[call-arg]  # mypy is not smart enough here\u001b[39;00m\n\u001b[0;32m--> 245\u001b[0m \u001b[38;5;28;01mraise\u001b[39;00m exception_class(message, screen, stacktrace)\n",
      "\u001b[0;31mNoSuchElementException\u001b[0m: Message: no such element: Unable to locate element: {\"method\":\"css selector\",\"selector\":\".text-20 h-spacing-left-2 padding-right-4\"}\n  (Session info: headless chrome=112.0.5615.165)\nStacktrace:\n#0 0x55942cad3fe3 <unknown>\n#1 0x55942c812d36 <unknown>\n#2 0x55942c84fc4d <unknown>\n#3 0x55942c84fd61 <unknown>\n#4 0x55942c88b6a4 <unknown>\n#5 0x55942c8708ed <unknown>\n#6 0x55942c889232 <unknown>\n#7 0x55942c870693 <unknown>\n#8 0x55942c84303a <unknown>\n#9 0x55942c84417e <unknown>\n#10 0x55942ca95dbd <unknown>\n#11 0x55942ca99c6c <unknown>\n#12 0x55942caa34b0 <unknown>\n#13 0x55942ca9ad63 <unknown>\n#14 0x55942ca6dc35 <unknown>\n#15 0x55942cabe138 <unknown>\n#16 0x55942cabe2c7 <unknown>\n#17 0x55942cacc093 <unknown>\n#18 0x7f5e40824b43 <unknown>\n"
     ]
    }
   ],
   "source": [
    "from random import randint\n",
    "\n",
    "# Now we load the search page\n",
    "url = \"https://freesound.org/search/?s=Date+added+(newest+first)&g=1\"\n",
    "\n",
    "# Find the a element with title=\"Last Page\" so we can get the number of pages\n",
    "driver.get(url)\n",
    "print(\"Getting last page number\")\n",
    "last_page = driver.find_element(By.CSS_SELECTOR, \"a[title='Last Page']\")\n",
    "last_page_number = int(last_page.text)\n",
    "\n",
    "# Because we want to get random sounds, pick a random page\n",
    "num_pages = 10\n",
    "page_nums = [randint(1, last_page_number) for _ in range(num_pages)]\n",
    "\n",
    "print(f\"Page numbers: {page_nums}\")\n",
    "\n",
    "print(\"Getting random sounds\")\n",
    "\n",
    "# We add the query &page=PAGE_NUM to the url to get the page\n",
    "for page in page_nums:\n",
    "    url = f\"https://freesound.org/search/?s=Date+added+(newest+first)&g=1&page={page}\"\n",
    "    driver.get(url)\n",
    "\n",
    "    # Wait until there's some -bw-link--black anchor elements to click on\n",
    "    # These are the links to the sounds\n",
    "    WebDriverWait(driver, 10).until(\n",
    "        EC.presence_of_element_located((By.CSS_SELECTOR, \".bw-link--black\"))\n",
    "    )\n",
    "\n",
    "    print(f\"Getting page {page}\")\n",
    "\n",
    "    # If there's any explicit-sound-blocker divs, click the buttons to remove them\n",
    "    # This is because we can't download sounds that have explicit content\n",
    "    explicit_blockers = driver.find_elements(By.CSS_SELECTOR, \".explicit-sound-blocker\")\n",
    "    try:\n",
    "        for blocker in explicit_blockers:\n",
    "            button = blocker.find_element(By.CSS_SELECTOR, \".btn\")\n",
    "            button.click()\n",
    "            print(\"Clicked button to remove explicit content blocker\")\n",
    "    except:\n",
    "        pass\n",
    "\n",
    "    # Now find all the divs with class bw-search__result\n",
    "    # These are the divs that contain the sound info\n",
    "    results = driver.find_elements(By.CSS_SELECTOR, \".bw-search__result\")\n",
    "\n",
    "    print(f\"Found {len(results)} sounds on page {page}\")\n",
    "\n",
    "    # Pick a random one and click on the a element with class=\"bw-link--black\"\n",
    "    # Also save the name of the sound (the inner text)\n",
    "    anchor = results[randint(0, len(results) - 1)].find_element(By.CSS_SELECTOR, \".bw-link--black\")\n",
    "\n",
    "    # Get the name of the sound\n",
    "    name = anchor.text\n",
    "\n",
    "    print(f\"Getting sound {name}\")\n",
    "\n",
    "    # The anchor element is a link to the sound page but doesn't seem to be clickable, so let's just get the href attribute\n",
    "    href = anchor.get_attribute(\"href\")\n",
    "\n",
    "    print(f\"Got href {href}\")\n",
    "\n",
    "    # Now we can go to the sound page\n",
    "    driver.get(href)\n",
    "\n",
    "    print(\"Went to sound page\")\n",
    "\n",
    "    # Find element with inner text Download sound\n",
    "    download_button = WebDriverWait(driver, 10).until(\n",
    "        EC.presence_of_element_located((By.LINK_TEXT, \"Download sound\"))\n",
    "    )\n",
    "\n",
    "    print(\"Found download button\")\n",
    "\n",
    "    # Use Xpath to find the element containing the licence\n",
    "    try:\n",
    "        license_element = driver.find_element(By.XPATH, \"//span[@class='text-20 h-spacing-left-2 padding-right-4']\")\n",
    "\n",
    "        # Licence is the inner text\n",
    "        license = license_element.text\n",
    "        # Put it in the dictionary\n",
    "        licenses[name] = license\n",
    "        print(f\"Got license {license}\")\n",
    "    except:\n",
    "        print(\"Error getting license\")\n",
    "        print(\"Defaulting to linking to sound page\")\n",
    "        licenses[name] = href\n",
    "\n",
    "    # Get the href attribute\n",
    "    download_link = download_button.get_attribute(\"href\")\n",
    "\n",
    "    # Download the sound (or try to)\n",
    "    try:\n",
    "        driver.get(download_link)\n",
    "        print(\"Downloaded sound\")\n",
    "    except:\n",
    "        print(\"Error downloading sound\")\n",
    "\n",
    "\n",
    "    # Now put it in the dictionary\n",
    "    random_sounds[name] = download_link\n"
   ]
  },
  {
   "cell_type": "code",
   "execution_count": null,
   "metadata": {},
   "outputs": [],
   "source": [
    "# Copy the sounds to the sounds directory\n",
    "import shutil\n",
    "# Everything not ending in .ipynb is a sound\n",
    "for file in os.listdir():\n",
    "    if file.endswith(\".ipynb\"):\n",
    "        continue\n",
    "    shutil.move(file, \"sounds\")"
   ]
  },
  {
   "cell_type": "code",
   "execution_count": null,
   "metadata": {},
   "outputs": [
    {
     "name": "stdout",
     "output_type": "stream",
     "text": [
      "excuse me_woman.wav:\n",
      "https://freesound.org/people/BJP09/sounds/619918/download/619918__bjp09__excuse-me_woman.wav\n",
      "birds in park 2.wav:\n",
      "https://freesound.org/people/brick_on_de/sounds/274134/download/274134__brick_on_de__birds-in-park-2.wav\n",
      "Wooden Planks Dropping on Concrete, Breaking Wood:\n",
      "https://freesound.org/people/TheLittleCrow/sounds/589866/download/589866__thelittlecrow__wooden-planks-dropping-on-concrete-breaking-wood.wav\n",
      "7000005.wav:\n",
      "https://freesound.org/people/levelclearer/sounds/417216/download/417216__levelclearer__7000005.wav\n",
      "coyotes.wav:\n",
      "https://freesound.org/people/Nirtana/sounds/641626/download/641626__nirtana__coyotes.wav\n",
      "Kedington Ambeince.mp3:\n",
      "https://freesound.org/people/jackwheatley/sounds/58283/download/58283__jackwheatley__kedington-ambeince.mp3\n",
      "letter-give.aif:\n",
      "https://freesound.org/people/toefur/sounds/280247/download/280247__toefur__letter-give.aiff\n",
      "Summer Songbirds Eastern Missouri June 2021.wav:\n",
      "https://freesound.org/people/RedHatCreator/sounds/577865/download/577865__redhatcreator__summer-songbirds-eastern-missouri-june-2021.wav\n",
      "Middle Tom Of God Wet 020.wav:\n",
      "https://freesound.org/people/Suicidity/sounds/81627/download/81627__suicidity__middle-tom-of-god-wet-020.wav\n",
      "WHITE NOISE - SNARE - 2.wav:\n",
      "https://freesound.org/people/rossgalloway/sounds/176001/download/176001__rossgalloway__white-noise-snare-2.wav\n"
     ]
    }
   ],
   "source": [
    "# Print out the dictionary in a nice format to copy and paste to my friend Adrien\n",
    "for name, link in random_sounds.items():\n",
    "    print(f\"{name}:\\n{link}\")"
   ]
  },
  {
   "cell_type": "code",
   "execution_count": null,
   "metadata": {},
   "outputs": [],
   "source": [
    "# Write/append licences to file\n",
    "with open(\"sounds/licenses.txt\", \"a\") as f:\n",
    "    for name, license in licenses.items():\n",
    "        f.write(f\"{name}: {license}\\n\")"
   ]
  }
 ],
 "metadata": {
  "kernelspec": {
   "display_name": "Python 3",
   "language": "python",
   "name": "python3"
  },
  "language_info": {
   "codemirror_mode": {
    "name": "ipython",
    "version": 3
   },
   "file_extension": ".py",
   "mimetype": "text/x-python",
   "name": "python",
   "nbconvert_exporter": "python",
   "pygments_lexer": "ipython3",
   "version": "3.10.6"
  }
 },
 "nbformat": 4,
 "nbformat_minor": 2
}
